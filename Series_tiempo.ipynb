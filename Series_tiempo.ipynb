{
  "nbformat": 4,
  "nbformat_minor": 0,
  "metadata": {
    "colab": {
      "provenance": [],
      "authorship_tag": "ABX9TyNhxSHrbSVpuh+0rMdxtqOh",
      "include_colab_link": true
    },
    "kernelspec": {
      "name": "python3",
      "display_name": "Python 3"
    },
    "language_info": {
      "name": "python"
    }
  },
  "cells": [
    {
      "cell_type": "markdown",
      "metadata": {
        "id": "view-in-github",
        "colab_type": "text"
      },
      "source": [
        "<a href=\"https://colab.research.google.com/github/esta24/prueba_as/blob/main/Series_tiempo.ipynb\" target=\"_parent\"><img src=\"https://colab.research.google.com/assets/colab-badge.svg\" alt=\"Open In Colab\"/></a>"
      ]
    },
    {
      "cell_type": "markdown",
      "source": [
        "# Extraer datos usando las librerías 'yfinance' y 'Pandas' de Python"
      ],
      "metadata": {
        "id": "7NcMvjjP9cwT"
      }
    },
    {
      "cell_type": "markdown",
      "source": [
        "Importaos las librerias a utilizar\n",
        "\n",
        "en este caso las librerias yfinance y pandas"
      ],
      "metadata": {
        "id": "G06fsJtlxhoQ"
      }
    },
    {
      "cell_type": "code",
      "source": [
        "#!pip install yahoofinancials"
      ],
      "metadata": {
        "id": "xptkWMDi3R9r"
      },
      "execution_count": null,
      "outputs": []
    },
    {
      "cell_type": "markdown",
      "source": [
        "Importamos librerias"
      ],
      "metadata": {
        "id": "z_Ft_a5W5PGl"
      }
    },
    {
      "cell_type": "code",
      "execution_count": 7,
      "metadata": {
        "id": "LEKyEjzxtTMf"
      },
      "outputs": [],
      "source": [
        "import yfinance as yf\n",
        "import pandas as pd"
      ]
    },
    {
      "cell_type": "markdown",
      "source": [
        "Se busca la base con las siglas identificativas"
      ],
      "metadata": {
        "id": "bRLPbFES62G_"
      }
    },
    {
      "cell_type": "code",
      "source": [
        "stock = yf.Ticker(\"ML\")"
      ],
      "metadata": {
        "id": "JGssTiUA0QPq"
      },
      "execution_count": 8,
      "outputs": []
    },
    {
      "cell_type": "markdown",
      "source": [
        "Extraemos los datos"
      ],
      "metadata": {
        "id": "symlzNSH68R-"
      }
    },
    {
      "cell_type": "code",
      "source": [
        "price_info=stock.info\n",
        "price_info"
      ],
      "metadata": {
        "colab": {
          "base_uri": "https://localhost:8080/"
        },
        "id": "d22bVrX72LOw",
        "outputId": "05de34a7-8a86-4178-f6f3-aee87533292b"
      },
      "execution_count": 10,
      "outputs": [
        {
          "output_type": "execute_result",
          "data": {
            "text/plain": [
              "{'address1': '30 West 21st Street',\n",
              " 'address2': '9th Floor',\n",
              " 'city': 'New York',\n",
              " 'state': 'NY',\n",
              " 'zip': '10010',\n",
              " 'country': 'United States',\n",
              " 'phone': '212 380 9865',\n",
              " 'website': 'https://www.investors.moneylion.com',\n",
              " 'industry': 'Software - Application',\n",
              " 'industryKey': 'software-application',\n",
              " 'industryDisp': 'Software - Application',\n",
              " 'sector': 'Technology',\n",
              " 'sectorKey': 'technology',\n",
              " 'sectorDisp': 'Technology',\n",
              " 'longBusinessSummary': \"MoneyLion Inc., a financial technology company, provides personalized products and financial content for American consumers. The company's platform offers access to banking, borrowing, and investing solutions for customers. Its principal products include RoarMoney, an insured digital demand deposit account; Instacash, a cash advance product that gives customers early access to their recurring income deposits; Credit Builder Plus membership program; MoneyLion Investing, an online investment account that offers access to separately managed accounts invested based on model exchange-traded fund portfolios; Roundups, which provides features designed to encourage customers to establish good saving and investing habits; and MoneyLion Crypto, an online cryptocurrency account. It also provides marketplace solutions, such as valuable distribution, acquisition, growth, and monetization channels; and creative media and brand content services. MoneyLion Inc. was founded in 2013 and is headquartered in New York, New York.\",\n",
              " 'fullTimeEmployees': 600,\n",
              " 'companyOfficers': [{'maxAge': 1,\n",
              "   'name': 'Mr. Diwakar M Choubey',\n",
              "   'age': 41,\n",
              "   'title': 'Co-Founder, CEO & Director',\n",
              "   'yearBorn': 1982,\n",
              "   'fiscalYear': 2023,\n",
              "   'totalPay': 1747282,\n",
              "   'exercisedValue': 0,\n",
              "   'unexercisedValue': 7916148},\n",
              "  {'maxAge': 1,\n",
              "   'name': 'Mr. Richard  Correia',\n",
              "   'age': 49,\n",
              "   'title': 'CFO, Treasurer & President',\n",
              "   'yearBorn': 1974,\n",
              "   'fiscalYear': 2023,\n",
              "   'totalPay': 1418471,\n",
              "   'exercisedValue': 0,\n",
              "   'unexercisedValue': 7591597},\n",
              "  {'maxAge': 1,\n",
              "   'name': 'Mr. Adam  VanWagner',\n",
              "   'age': 41,\n",
              "   'title': 'Chief Legal Officer & Secretary',\n",
              "   'yearBorn': 1982,\n",
              "   'fiscalYear': 2023,\n",
              "   'totalPay': 1043382,\n",
              "   'exercisedValue': 0,\n",
              "   'unexercisedValue': 117600},\n",
              "  {'maxAge': 1,\n",
              "   'name': 'Mr. Timmie  Hong',\n",
              "   'age': 40,\n",
              "   'title': 'Chief Product Officer',\n",
              "   'yearBorn': 1983,\n",
              "   'fiscalYear': 2023,\n",
              "   'totalPay': 1097602,\n",
              "   'exercisedValue': 0,\n",
              "   'unexercisedValue': 5284663},\n",
              "  {'maxAge': 1,\n",
              "   'name': 'Mr. Mark  Torossian',\n",
              "   'age': 39,\n",
              "   'title': 'Chief Accounting Officer',\n",
              "   'yearBorn': 1984,\n",
              "   'fiscalYear': 2023,\n",
              "   'exercisedValue': 0,\n",
              "   'unexercisedValue': 0},\n",
              "  {'maxAge': 1,\n",
              "   'name': 'Mr. Sean Michael Horgan',\n",
              "   'title': 'Head of Investor Relations',\n",
              "   'fiscalYear': 2023,\n",
              "   'exercisedValue': 0,\n",
              "   'unexercisedValue': 0},\n",
              "  {'maxAge': 1,\n",
              "   'name': 'Ms. Cynthia  Kleinbaum',\n",
              "   'title': 'Chief Customer Officer',\n",
              "   'fiscalYear': 2023,\n",
              "   'exercisedValue': 0,\n",
              "   'unexercisedValue': 0}],\n",
              " 'compensationAsOfEpochDate': 1703980800,\n",
              " 'maxAge': 86400,\n",
              " 'priceHint': 2,\n",
              " 'previousClose': 79.8,\n",
              " 'open': 79.94,\n",
              " 'dayLow': 79.75,\n",
              " 'dayHigh': 97.4699,\n",
              " 'regularMarketPreviousClose': 79.8,\n",
              " 'regularMarketOpen': 79.94,\n",
              " 'regularMarketDayLow': 79.75,\n",
              " 'regularMarketDayHigh': 97.4699,\n",
              " 'beta': 2.677,\n",
              " 'forwardPE': 23.637278,\n",
              " 'volume': 508118,\n",
              " 'regularMarketVolume': 508118,\n",
              " 'averageVolume': 187567,\n",
              " 'averageVolume10days': 171510,\n",
              " 'averageDailyVolume10Day': 171510,\n",
              " 'bid': 91.28,\n",
              " 'ask': 94.07,\n",
              " 'bidSize': 1200,\n",
              " 'askSize': 900,\n",
              " 'marketCap': 1012345856,\n",
              " 'fiftyTwoWeekLow': 10.11,\n",
              " 'fiftyTwoWeekHigh': 97.47,\n",
              " 'priceToSalesTrailing12Months': 2.2458246,\n",
              " 'fiftyDayAverage': 73.6944,\n",
              " 'twoHundredDayAverage': 46.23335,\n",
              " 'currency': 'USD',\n",
              " 'enterpriseValue': 1128236928,\n",
              " 'profitMargins': -0.064229995,\n",
              " 'floatShares': 6260804,\n",
              " 'sharesOutstanding': 10788000,\n",
              " 'sharesShort': 267402,\n",
              " 'sharesShortPriorMonth': 187064,\n",
              " 'sharesShortPreviousMonthDate': 1711584000,\n",
              " 'dateShortInterest': 1714435200,\n",
              " 'sharesPercentSharesOut': 0.0248,\n",
              " 'heldPercentInsiders': 0.25435,\n",
              " 'heldPercentInstitutions': 0.44624,\n",
              " 'shortRatio': 1.79,\n",
              " 'shortPercentOfFloat': 0.03,\n",
              " 'impliedSharesOutstanding': 11138100,\n",
              " 'bookValue': 25.07,\n",
              " 'priceToBook': 3.7431192,\n",
              " 'lastFiscalYearEnd': 1703980800,\n",
              " 'nextFiscalYearEnd': 1735603200,\n",
              " 'mostRecentQuarter': 1711843200,\n",
              " 'netIncomeToCommon': -26286000,\n",
              " 'trailingEps': -2.74,\n",
              " 'forwardEps': 3.97,\n",
              " 'lastSplitFactor': '1:30',\n",
              " 'lastSplitDate': 1682380800,\n",
              " 'enterpriseToRevenue': 2.503,\n",
              " 'enterpriseToEbitda': 33.137,\n",
              " '52WeekChange': 7.3339252,\n",
              " 'SandP52WeekChange': 0.26137078,\n",
              " 'exchange': 'NYQ',\n",
              " 'quoteType': 'EQUITY',\n",
              " 'symbol': 'ML',\n",
              " 'underlyingSymbol': 'ML',\n",
              " 'shortName': 'MoneyLion Inc.',\n",
              " 'longName': 'MoneyLion Inc.',\n",
              " 'firstTradeDateEpochUtc': 1597411800,\n",
              " 'timeZoneFullName': 'America/New_York',\n",
              " 'timeZoneShortName': 'EDT',\n",
              " 'uuid': 'd01fd9b0-1e9d-3e8b-93dc-247afbfb7218',\n",
              " 'messageBoardId': 'finmb_283871607',\n",
              " 'gmtOffSetMilliseconds': -14400000,\n",
              " 'currentPrice': 93.84,\n",
              " 'targetHighPrice': 133.0,\n",
              " 'targetLowPrice': 32.46,\n",
              " 'targetMeanPrice': 93.24,\n",
              " 'targetMedianPrice': 102.5,\n",
              " 'recommendationMean': 2.5,\n",
              " 'recommendationKey': 'buy',\n",
              " 'numberOfAnalystOpinions': 6,\n",
              " 'totalCash': 93177000,\n",
              " 'totalCashPerShare': 8.637,\n",
              " 'ebitda': 34048000,\n",
              " 'totalDebt': 209070000,\n",
              " 'quickRatio': 6.196,\n",
              " 'currentRatio': 6.497,\n",
              " 'totalRevenue': 450768000,\n",
              " 'debtToEquity': 77.302,\n",
              " 'revenuePerShare': 44.706,\n",
              " 'returnOnAssets': 0.01049,\n",
              " 'returnOnEquity': -0.10738,\n",
              " 'freeCashflow': 8525625,\n",
              " 'operatingCashflow': 147304992,\n",
              " 'revenueGrowth': 0.292,\n",
              " 'grossMargins': 0.50702,\n",
              " 'ebitdaMargins': 0.07553,\n",
              " 'operatingMargins': 0.09142999,\n",
              " 'financialCurrency': 'USD',\n",
              " 'trailingPegRatio': None}"
            ]
          },
          "metadata": {},
          "execution_count": 10
        }
      ]
    },
    {
      "cell_type": "code",
      "source": [
        "price_info['country']"
      ],
      "metadata": {
        "colab": {
          "base_uri": "https://localhost:8080/",
          "height": 35
        },
        "id": "oQVVuzhs5XOr",
        "outputId": "4df89382-50a9-44b2-f67f-5f057752b7c1"
      },
      "execution_count": 11,
      "outputs": [
        {
          "output_type": "execute_result",
          "data": {
            "text/plain": [
              "'United States'"
            ],
            "application/vnd.google.colaboratory.intrinsic+json": {
              "type": "string"
            }
          },
          "metadata": {},
          "execution_count": 11
        }
      ]
    },
    {
      "cell_type": "markdown",
      "source": [
        "Extraemos los datos historicos de la base"
      ],
      "metadata": {
        "id": "stP4vDQi7_6x"
      }
    },
    {
      "cell_type": "code",
      "source": [
        "historico_price = stock.history(period=\"max\")\n",
        "print(historico_price)"
      ],
      "metadata": {
        "id": "k2fMUK6W5ouO",
        "colab": {
          "base_uri": "https://localhost:8080/"
        },
        "outputId": "d67da622-6e2b-4aae-afe8-da39f0f2f5e3"
      },
      "execution_count": 13,
      "outputs": [
        {
          "output_type": "stream",
          "name": "stdout",
          "text": [
            "                                 Open        High         Low       Close  \\\n",
            "Date                                                                        \n",
            "2020-08-14 00:00:00-04:00  294.299988  294.899994  294.000000  294.000000   \n",
            "2020-08-17 00:00:00-04:00  294.299988  294.450012  294.000000  294.000000   \n",
            "2020-08-18 00:00:00-04:00  294.600006  294.600006  293.700012  293.700012   \n",
            "2020-08-19 00:00:00-04:00  293.399994  293.399994  292.500000  292.500000   \n",
            "2020-08-20 00:00:00-04:00  293.399994  293.399994  292.500000  292.500000   \n",
            "...                               ...         ...         ...         ...   \n",
            "2024-05-20 00:00:00-04:00   78.480003   85.000000   78.480003   83.370003   \n",
            "2024-05-21 00:00:00-04:00   83.059998   86.250000   81.457001   84.970001   \n",
            "2024-05-22 00:00:00-04:00   84.029999   85.050003   81.365997   82.389999   \n",
            "2024-05-23 00:00:00-04:00   83.690002   84.180000   77.830002   79.800003   \n",
            "2024-05-24 00:00:00-04:00   79.940002   97.470001   79.750000   93.839996   \n",
            "\n",
            "                           Volume  Dividends  Stock Splits  \n",
            "Date                                                        \n",
            "2020-08-14 00:00:00-04:00   16077        0.0           0.0  \n",
            "2020-08-17 00:00:00-04:00    2570        0.0           0.0  \n",
            "2020-08-18 00:00:00-04:00    3610        0.0           0.0  \n",
            "2020-08-19 00:00:00-04:00     243        0.0           0.0  \n",
            "2020-08-20 00:00:00-04:00   20643        0.0           0.0  \n",
            "...                           ...        ...           ...  \n",
            "2024-05-20 00:00:00-04:00  180800        0.0           0.0  \n",
            "2024-05-21 00:00:00-04:00  158900        0.0           0.0  \n",
            "2024-05-22 00:00:00-04:00   97300        0.0           0.0  \n",
            "2024-05-23 00:00:00-04:00  147300        0.0           0.0  \n",
            "2024-05-24 00:00:00-04:00  508300        0.0           0.0  \n",
            "\n",
            "[951 rows x 7 columns]\n"
          ]
        }
      ]
    },
    {
      "cell_type": "markdown",
      "source": [
        " Haciendo uso de los métodos head() y tail() podremos ver las primeras líneas o las ultimas respectivamente. Como parámetro se les pasa el número de líneas a visualizar, si no se le proporciona este parámetro por defecto muestra cinco líneas."
      ],
      "metadata": {
        "id": "CrznBMol8W-H"
      }
    },
    {
      "cell_type": "code",
      "source": [
        "historico_price.head()"
      ],
      "metadata": {
        "colab": {
          "base_uri": "https://localhost:8080/",
          "height": 238
        },
        "id": "gW0WDLpW79tD",
        "outputId": "cbaa11fe-6567-4e4b-ac9d-0803ec102c00"
      },
      "execution_count": 14,
      "outputs": [
        {
          "output_type": "execute_result",
          "data": {
            "text/plain": [
              "                                 Open        High         Low       Close  \\\n",
              "Date                                                                        \n",
              "2020-08-14 00:00:00-04:00  294.299988  294.899994  294.000000  294.000000   \n",
              "2020-08-17 00:00:00-04:00  294.299988  294.450012  294.000000  294.000000   \n",
              "2020-08-18 00:00:00-04:00  294.600006  294.600006  293.700012  293.700012   \n",
              "2020-08-19 00:00:00-04:00  293.399994  293.399994  292.500000  292.500000   \n",
              "2020-08-20 00:00:00-04:00  293.399994  293.399994  292.500000  292.500000   \n",
              "\n",
              "                           Volume  Dividends  Stock Splits  \n",
              "Date                                                        \n",
              "2020-08-14 00:00:00-04:00   16077        0.0           0.0  \n",
              "2020-08-17 00:00:00-04:00    2570        0.0           0.0  \n",
              "2020-08-18 00:00:00-04:00    3610        0.0           0.0  \n",
              "2020-08-19 00:00:00-04:00     243        0.0           0.0  \n",
              "2020-08-20 00:00:00-04:00   20643        0.0           0.0  "
            ],
            "text/html": [
              "\n",
              "  <div id=\"df-034bf201-b8e1-4dfb-81e9-dc93681279ce\" class=\"colab-df-container\">\n",
              "    <div>\n",
              "<style scoped>\n",
              "    .dataframe tbody tr th:only-of-type {\n",
              "        vertical-align: middle;\n",
              "    }\n",
              "\n",
              "    .dataframe tbody tr th {\n",
              "        vertical-align: top;\n",
              "    }\n",
              "\n",
              "    .dataframe thead th {\n",
              "        text-align: right;\n",
              "    }\n",
              "</style>\n",
              "<table border=\"1\" class=\"dataframe\">\n",
              "  <thead>\n",
              "    <tr style=\"text-align: right;\">\n",
              "      <th></th>\n",
              "      <th>Open</th>\n",
              "      <th>High</th>\n",
              "      <th>Low</th>\n",
              "      <th>Close</th>\n",
              "      <th>Volume</th>\n",
              "      <th>Dividends</th>\n",
              "      <th>Stock Splits</th>\n",
              "    </tr>\n",
              "    <tr>\n",
              "      <th>Date</th>\n",
              "      <th></th>\n",
              "      <th></th>\n",
              "      <th></th>\n",
              "      <th></th>\n",
              "      <th></th>\n",
              "      <th></th>\n",
              "      <th></th>\n",
              "    </tr>\n",
              "  </thead>\n",
              "  <tbody>\n",
              "    <tr>\n",
              "      <th>2020-08-14 00:00:00-04:00</th>\n",
              "      <td>294.299988</td>\n",
              "      <td>294.899994</td>\n",
              "      <td>294.000000</td>\n",
              "      <td>294.000000</td>\n",
              "      <td>16077</td>\n",
              "      <td>0.0</td>\n",
              "      <td>0.0</td>\n",
              "    </tr>\n",
              "    <tr>\n",
              "      <th>2020-08-17 00:00:00-04:00</th>\n",
              "      <td>294.299988</td>\n",
              "      <td>294.450012</td>\n",
              "      <td>294.000000</td>\n",
              "      <td>294.000000</td>\n",
              "      <td>2570</td>\n",
              "      <td>0.0</td>\n",
              "      <td>0.0</td>\n",
              "    </tr>\n",
              "    <tr>\n",
              "      <th>2020-08-18 00:00:00-04:00</th>\n",
              "      <td>294.600006</td>\n",
              "      <td>294.600006</td>\n",
              "      <td>293.700012</td>\n",
              "      <td>293.700012</td>\n",
              "      <td>3610</td>\n",
              "      <td>0.0</td>\n",
              "      <td>0.0</td>\n",
              "    </tr>\n",
              "    <tr>\n",
              "      <th>2020-08-19 00:00:00-04:00</th>\n",
              "      <td>293.399994</td>\n",
              "      <td>293.399994</td>\n",
              "      <td>292.500000</td>\n",
              "      <td>292.500000</td>\n",
              "      <td>243</td>\n",
              "      <td>0.0</td>\n",
              "      <td>0.0</td>\n",
              "    </tr>\n",
              "    <tr>\n",
              "      <th>2020-08-20 00:00:00-04:00</th>\n",
              "      <td>293.399994</td>\n",
              "      <td>293.399994</td>\n",
              "      <td>292.500000</td>\n",
              "      <td>292.500000</td>\n",
              "      <td>20643</td>\n",
              "      <td>0.0</td>\n",
              "      <td>0.0</td>\n",
              "    </tr>\n",
              "  </tbody>\n",
              "</table>\n",
              "</div>\n",
              "    <div class=\"colab-df-buttons\">\n",
              "\n",
              "  <div class=\"colab-df-container\">\n",
              "    <button class=\"colab-df-convert\" onclick=\"convertToInteractive('df-034bf201-b8e1-4dfb-81e9-dc93681279ce')\"\n",
              "            title=\"Convert this dataframe to an interactive table.\"\n",
              "            style=\"display:none;\">\n",
              "\n",
              "  <svg xmlns=\"http://www.w3.org/2000/svg\" height=\"24px\" viewBox=\"0 -960 960 960\">\n",
              "    <path d=\"M120-120v-720h720v720H120Zm60-500h600v-160H180v160Zm220 220h160v-160H400v160Zm0 220h160v-160H400v160ZM180-400h160v-160H180v160Zm440 0h160v-160H620v160ZM180-180h160v-160H180v160Zm440 0h160v-160H620v160Z\"/>\n",
              "  </svg>\n",
              "    </button>\n",
              "\n",
              "  <style>\n",
              "    .colab-df-container {\n",
              "      display:flex;\n",
              "      gap: 12px;\n",
              "    }\n",
              "\n",
              "    .colab-df-convert {\n",
              "      background-color: #E8F0FE;\n",
              "      border: none;\n",
              "      border-radius: 50%;\n",
              "      cursor: pointer;\n",
              "      display: none;\n",
              "      fill: #1967D2;\n",
              "      height: 32px;\n",
              "      padding: 0 0 0 0;\n",
              "      width: 32px;\n",
              "    }\n",
              "\n",
              "    .colab-df-convert:hover {\n",
              "      background-color: #E2EBFA;\n",
              "      box-shadow: 0px 1px 2px rgba(60, 64, 67, 0.3), 0px 1px 3px 1px rgba(60, 64, 67, 0.15);\n",
              "      fill: #174EA6;\n",
              "    }\n",
              "\n",
              "    .colab-df-buttons div {\n",
              "      margin-bottom: 4px;\n",
              "    }\n",
              "\n",
              "    [theme=dark] .colab-df-convert {\n",
              "      background-color: #3B4455;\n",
              "      fill: #D2E3FC;\n",
              "    }\n",
              "\n",
              "    [theme=dark] .colab-df-convert:hover {\n",
              "      background-color: #434B5C;\n",
              "      box-shadow: 0px 1px 3px 1px rgba(0, 0, 0, 0.15);\n",
              "      filter: drop-shadow(0px 1px 2px rgba(0, 0, 0, 0.3));\n",
              "      fill: #FFFFFF;\n",
              "    }\n",
              "  </style>\n",
              "\n",
              "    <script>\n",
              "      const buttonEl =\n",
              "        document.querySelector('#df-034bf201-b8e1-4dfb-81e9-dc93681279ce button.colab-df-convert');\n",
              "      buttonEl.style.display =\n",
              "        google.colab.kernel.accessAllowed ? 'block' : 'none';\n",
              "\n",
              "      async function convertToInteractive(key) {\n",
              "        const element = document.querySelector('#df-034bf201-b8e1-4dfb-81e9-dc93681279ce');\n",
              "        const dataTable =\n",
              "          await google.colab.kernel.invokeFunction('convertToInteractive',\n",
              "                                                    [key], {});\n",
              "        if (!dataTable) return;\n",
              "\n",
              "        const docLinkHtml = 'Like what you see? Visit the ' +\n",
              "          '<a target=\"_blank\" href=https://colab.research.google.com/notebooks/data_table.ipynb>data table notebook</a>'\n",
              "          + ' to learn more about interactive tables.';\n",
              "        element.innerHTML = '';\n",
              "        dataTable['output_type'] = 'display_data';\n",
              "        await google.colab.output.renderOutput(dataTable, element);\n",
              "        const docLink = document.createElement('div');\n",
              "        docLink.innerHTML = docLinkHtml;\n",
              "        element.appendChild(docLink);\n",
              "      }\n",
              "    </script>\n",
              "  </div>\n",
              "\n",
              "\n",
              "<div id=\"df-afaffdee-93f2-4b55-aade-54bd23b0fd05\">\n",
              "  <button class=\"colab-df-quickchart\" onclick=\"quickchart('df-afaffdee-93f2-4b55-aade-54bd23b0fd05')\"\n",
              "            title=\"Suggest charts\"\n",
              "            style=\"display:none;\">\n",
              "\n",
              "<svg xmlns=\"http://www.w3.org/2000/svg\" height=\"24px\"viewBox=\"0 0 24 24\"\n",
              "     width=\"24px\">\n",
              "    <g>\n",
              "        <path d=\"M19 3H5c-1.1 0-2 .9-2 2v14c0 1.1.9 2 2 2h14c1.1 0 2-.9 2-2V5c0-1.1-.9-2-2-2zM9 17H7v-7h2v7zm4 0h-2V7h2v10zm4 0h-2v-4h2v4z\"/>\n",
              "    </g>\n",
              "</svg>\n",
              "  </button>\n",
              "\n",
              "<style>\n",
              "  .colab-df-quickchart {\n",
              "      --bg-color: #E8F0FE;\n",
              "      --fill-color: #1967D2;\n",
              "      --hover-bg-color: #E2EBFA;\n",
              "      --hover-fill-color: #174EA6;\n",
              "      --disabled-fill-color: #AAA;\n",
              "      --disabled-bg-color: #DDD;\n",
              "  }\n",
              "\n",
              "  [theme=dark] .colab-df-quickchart {\n",
              "      --bg-color: #3B4455;\n",
              "      --fill-color: #D2E3FC;\n",
              "      --hover-bg-color: #434B5C;\n",
              "      --hover-fill-color: #FFFFFF;\n",
              "      --disabled-bg-color: #3B4455;\n",
              "      --disabled-fill-color: #666;\n",
              "  }\n",
              "\n",
              "  .colab-df-quickchart {\n",
              "    background-color: var(--bg-color);\n",
              "    border: none;\n",
              "    border-radius: 50%;\n",
              "    cursor: pointer;\n",
              "    display: none;\n",
              "    fill: var(--fill-color);\n",
              "    height: 32px;\n",
              "    padding: 0;\n",
              "    width: 32px;\n",
              "  }\n",
              "\n",
              "  .colab-df-quickchart:hover {\n",
              "    background-color: var(--hover-bg-color);\n",
              "    box-shadow: 0 1px 2px rgba(60, 64, 67, 0.3), 0 1px 3px 1px rgba(60, 64, 67, 0.15);\n",
              "    fill: var(--button-hover-fill-color);\n",
              "  }\n",
              "\n",
              "  .colab-df-quickchart-complete:disabled,\n",
              "  .colab-df-quickchart-complete:disabled:hover {\n",
              "    background-color: var(--disabled-bg-color);\n",
              "    fill: var(--disabled-fill-color);\n",
              "    box-shadow: none;\n",
              "  }\n",
              "\n",
              "  .colab-df-spinner {\n",
              "    border: 2px solid var(--fill-color);\n",
              "    border-color: transparent;\n",
              "    border-bottom-color: var(--fill-color);\n",
              "    animation:\n",
              "      spin 1s steps(1) infinite;\n",
              "  }\n",
              "\n",
              "  @keyframes spin {\n",
              "    0% {\n",
              "      border-color: transparent;\n",
              "      border-bottom-color: var(--fill-color);\n",
              "      border-left-color: var(--fill-color);\n",
              "    }\n",
              "    20% {\n",
              "      border-color: transparent;\n",
              "      border-left-color: var(--fill-color);\n",
              "      border-top-color: var(--fill-color);\n",
              "    }\n",
              "    30% {\n",
              "      border-color: transparent;\n",
              "      border-left-color: var(--fill-color);\n",
              "      border-top-color: var(--fill-color);\n",
              "      border-right-color: var(--fill-color);\n",
              "    }\n",
              "    40% {\n",
              "      border-color: transparent;\n",
              "      border-right-color: var(--fill-color);\n",
              "      border-top-color: var(--fill-color);\n",
              "    }\n",
              "    60% {\n",
              "      border-color: transparent;\n",
              "      border-right-color: var(--fill-color);\n",
              "    }\n",
              "    80% {\n",
              "      border-color: transparent;\n",
              "      border-right-color: var(--fill-color);\n",
              "      border-bottom-color: var(--fill-color);\n",
              "    }\n",
              "    90% {\n",
              "      border-color: transparent;\n",
              "      border-bottom-color: var(--fill-color);\n",
              "    }\n",
              "  }\n",
              "</style>\n",
              "\n",
              "  <script>\n",
              "    async function quickchart(key) {\n",
              "      const quickchartButtonEl =\n",
              "        document.querySelector('#' + key + ' button');\n",
              "      quickchartButtonEl.disabled = true;  // To prevent multiple clicks.\n",
              "      quickchartButtonEl.classList.add('colab-df-spinner');\n",
              "      try {\n",
              "        const charts = await google.colab.kernel.invokeFunction(\n",
              "            'suggestCharts', [key], {});\n",
              "      } catch (error) {\n",
              "        console.error('Error during call to suggestCharts:', error);\n",
              "      }\n",
              "      quickchartButtonEl.classList.remove('colab-df-spinner');\n",
              "      quickchartButtonEl.classList.add('colab-df-quickchart-complete');\n",
              "    }\n",
              "    (() => {\n",
              "      let quickchartButtonEl =\n",
              "        document.querySelector('#df-afaffdee-93f2-4b55-aade-54bd23b0fd05 button');\n",
              "      quickchartButtonEl.style.display =\n",
              "        google.colab.kernel.accessAllowed ? 'block' : 'none';\n",
              "    })();\n",
              "  </script>\n",
              "</div>\n",
              "    </div>\n",
              "  </div>\n"
            ],
            "application/vnd.google.colaboratory.intrinsic+json": {
              "type": "dataframe",
              "variable_name": "historico_price",
              "summary": "{\n  \"name\": \"historico_price\",\n  \"rows\": 951,\n  \"fields\": [\n    {\n      \"column\": \"Date\",\n      \"properties\": {\n        \"dtype\": \"date\",\n        \"min\": \"2020-08-14 00:00:00-04:00\",\n        \"max\": \"2024-05-24 00:00:00-04:00\",\n        \"num_unique_values\": 951,\n        \"samples\": [\n          \"2021-06-01 00:00:00-04:00\",\n          \"2022-04-14 00:00:00-04:00\",\n          \"2023-05-18 00:00:00-04:00\"\n        ],\n        \"semantic_type\": \"\",\n        \"description\": \"\"\n      }\n    },\n    {\n      \"column\": \"Open\",\n      \"properties\": {\n        \"dtype\": \"number\",\n        \"std\": 121.9957105653296,\n        \"min\": 8.920000076293945,\n        \"max\": 384.6000061035156,\n        \"num_unique_values\": 641,\n        \"samples\": [\n          297.29998779296875,\n          23.729999542236328,\n          12.869999885559082\n        ],\n        \"semantic_type\": \"\",\n        \"description\": \"\"\n      }\n    },\n    {\n      \"column\": \"High\",\n      \"properties\": {\n        \"dtype\": \"number\",\n        \"std\": 122.80552360311648,\n        \"min\": 9.3100004196167,\n        \"max\": 387.0,\n        \"num_unique_values\": 673,\n        \"samples\": [\n          68.69999694824219,\n          33.599998474121094,\n          36.75\n        ],\n        \"semantic_type\": \"\",\n        \"description\": \"\"\n      }\n    },\n    {\n      \"column\": \"Low\",\n      \"properties\": {\n        \"dtype\": \"number\",\n        \"std\": 121.086735133232,\n        \"min\": 7.5,\n        \"max\": 363.29998779296875,\n        \"num_unique_values\": 643,\n        \"samples\": [\n          69.2699966430664,\n          14.100000381469727,\n          19.65999984741211\n        ],\n        \"semantic_type\": \"\",\n        \"description\": \"\"\n      }\n    },\n    {\n      \"column\": \"Close\",\n      \"properties\": {\n        \"dtype\": \"number\",\n        \"std\": 121.86740155167942,\n        \"min\": 9.020000457763672,\n        \"max\": 371.1000061035156,\n        \"num_unique_values\": 648,\n        \"samples\": [\n          77.63999938964844,\n          58.79999923706055,\n          67.36000061035156\n        ],\n        \"semantic_type\": \"\",\n        \"description\": \"\"\n      }\n    },\n    {\n      \"column\": \"Volume\",\n      \"properties\": {\n        \"dtype\": \"number\",\n        \"std\": 82445,\n        \"min\": 30,\n        \"max\": 1124900,\n        \"num_unique_values\": 914,\n        \"samples\": [\n          17337,\n          134600,\n          30087\n        ],\n        \"semantic_type\": \"\",\n        \"description\": \"\"\n      }\n    },\n    {\n      \"column\": \"Dividends\",\n      \"properties\": {\n        \"dtype\": \"number\",\n        \"std\": 0.0,\n        \"min\": 0.0,\n        \"max\": 0.0,\n        \"num_unique_values\": 1,\n        \"samples\": [\n          0.0\n        ],\n        \"semantic_type\": \"\",\n        \"description\": \"\"\n      }\n    },\n    {\n      \"column\": \"Stock Splits\",\n      \"properties\": {\n        \"dtype\": \"number\",\n        \"std\": 0.001080907391875869,\n        \"min\": 0.0,\n        \"max\": 0.03333333333333333,\n        \"num_unique_values\": 2,\n        \"samples\": [\n          0.03333333333333333\n        ],\n        \"semantic_type\": \"\",\n        \"description\": \"\"\n      }\n    }\n  ]\n}"
            }
          },
          "metadata": {},
          "execution_count": 14
        }
      ]
    },
    {
      "cell_type": "markdown",
      "source": [
        "O podemos especificar algun registro que queramos ver"
      ],
      "metadata": {
        "id": "N1IkZMR88p3t"
      }
    },
    {
      "cell_type": "code",
      "source": [
        "print(historico_price[\"Close\"].head(10))"
      ],
      "metadata": {
        "colab": {
          "base_uri": "https://localhost:8080/"
        },
        "id": "Xtm3rMBj8gTI",
        "outputId": "c644b4e3-8bf2-43df-e87b-f89f5b49bde0"
      },
      "execution_count": 15,
      "outputs": [
        {
          "output_type": "stream",
          "name": "stdout",
          "text": [
            "Date\n",
            "2020-08-14 00:00:00-04:00    294.000000\n",
            "2020-08-17 00:00:00-04:00    294.000000\n",
            "2020-08-18 00:00:00-04:00    293.700012\n",
            "2020-08-19 00:00:00-04:00    292.500000\n",
            "2020-08-20 00:00:00-04:00    292.500000\n",
            "2020-08-21 00:00:00-04:00    293.100006\n",
            "2020-08-24 00:00:00-04:00    292.200012\n",
            "2020-08-25 00:00:00-04:00    291.000000\n",
            "2020-08-26 00:00:00-04:00    290.399994\n",
            "2020-08-27 00:00:00-04:00    293.100006\n",
            "Name: Close, dtype: float64\n"
          ]
        }
      ]
    },
    {
      "cell_type": "markdown",
      "source": [
        "Graficamos el precio al cierre por fecha."
      ],
      "metadata": {
        "id": "eNDjZeot8x2X"
      }
    },
    {
      "cell_type": "code",
      "source": [
        "historico_price.plot(x=\"Open\", y=\"Close\")"
      ],
      "metadata": {
        "colab": {
          "base_uri": "https://localhost:8080/",
          "height": 466
        },
        "id": "eI-_ZAjA8zFi",
        "outputId": "f0eb5d82-7816-46e4-e4be-6f30733ce05e"
      },
      "execution_count": 17,
      "outputs": [
        {
          "output_type": "execute_result",
          "data": {
            "text/plain": [
              "<Axes: xlabel='Open'>"
            ]
          },
          "metadata": {},
          "execution_count": 17
        },
        {
          "output_type": "display_data",
          "data": {
            "text/plain": [
              "<Figure size 640x480 with 1 Axes>"
            ],
            "image/png": "[encoded data removed]"
          },
          "metadata": {}
        }
      ]
    },
    {
      "cell_type": "code",
      "source": [],
      "metadata": {
        "id": "g-WIv0Ab9PPM"
      },
      "execution_count": null,
      "outputs": []
    }
  ]
}